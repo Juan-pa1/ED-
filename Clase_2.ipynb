{
  "nbformat": 4,
  "nbformat_minor": 0,
  "metadata": {
    "colab": {
      "provenance": [],
      "authorship_tag": "ABX9TyN2qRIUz5tI8k7/FM6BS/zg",
      "include_colab_link": true
    },
    "kernelspec": {
      "name": "python3",
      "display_name": "Python 3"
    },
    "language_info": {
      "name": "python"
    }
  },
  "cells": [
    {
      "cell_type": "markdown",
      "metadata": {
        "id": "view-in-github",
        "colab_type": "text"
      },
      "source": [
        "<a href=\"https://colab.research.google.com/github/Juan-pa1/ED-/blob/main/Clase_2.ipynb\" target=\"_parent\"><img src=\"https://colab.research.google.com/assets/colab-badge.svg\" alt=\"Open In Colab\"/></a>"
      ]
    },
    {
      "cell_type": "markdown",
      "source": [
        "Método iterativo básico"
      ],
      "metadata": {
        "id": "utDC86g74kMa"
      }
    },
    {
      "cell_type": "code",
      "execution_count": 1,
      "metadata": {
        "id": "QjjNKtZkz4EE"
      },
      "outputs": [],
      "source": [
        "def fibonacci_iterativo_basico(n):\n",
        "    if n == 0:\n",
        "        return 0\n",
        "    elif n == 1:\n",
        "        return 1\n",
        "\n",
        "    prev1, prev2 = 0, 1\n",
        "    for _ in range(2, n + 1):\n",
        "        fib = prev1 + prev2\n",
        "        prev1, prev2 = prev2, fib\n",
        "\n",
        "    return fib\n",
        "\n"
      ]
    },
    {
      "cell_type": "markdown",
      "source": [
        " Método iterativo optimizado"
      ],
      "metadata": {
        "id": "JyZDyDnl4ZRQ"
      }
    },
    {
      "cell_type": "code",
      "source": [
        "def fibonacci_optimizado(n):\n",
        "    if n == 0:\n",
        "        return 0\n",
        "    elif n == 1:\n",
        "        return 1\n",
        "\n",
        "    prev1, prev2 = 0, 1\n",
        "    for _ in range(2, n + 1):\n",
        "        prev2 = prev1 + prev2\n",
        "        prev1 = prev2 - prev1\n",
        "\n",
        "    return prev2\n"
      ],
      "metadata": {
        "id": "kr_rePgD4PWz"
      },
      "execution_count": 2,
      "outputs": []
    },
    {
      "cell_type": "markdown",
      "source": [
        "Medición del Tiempo de Ejecución"
      ],
      "metadata": {
        "id": "ENtRsjU54udh"
      }
    },
    {
      "cell_type": "code",
      "source": [
        "import time\n",
        "\n",
        "def medir_tiempo_ejecucion(func, *args):\n",
        "    start_time = time.time()\n",
        "    func(*args)\n",
        "    end_time = time.time()\n",
        "    return (end_time - start_time) * 1e9\n",
        "\n",
        "def main():\n",
        "    n = 20\n",
        "    iteraciones = 10\n",
        "\n",
        "    total_time_basico = 0\n",
        "    for _ in range(iteraciones):\n",
        "        total_time_basico += medir_tiempo_ejecucion(fibonacci_iterativo_basico, n)\n",
        "    print(f\"Tiempo promedio método básico: {total_time_basico / iteraciones:.2f} ns\")\n",
        "\n",
        "\n",
        "    total_time_optimizado = 0\n",
        "    for _ in range(iteraciones):\n",
        "        total_time_optimizado += medir_tiempo_ejecucion(fibonacci_optimizado, n)\n",
        "    print(f\"Tiempo promedio método optimizado: {total_time_optimizado / iteraciones:.2f} ns\")\n",
        "\n",
        "if __name__ == \"__main__\":\n",
        "    main()\n"
      ],
      "metadata": {
        "colab": {
          "base_uri": "https://localhost:8080/"
        },
        "id": "u0qnbLYG4uAu",
        "outputId": "2dcd85a2-41a1-4e17-b84a-2a82354622f1"
      },
      "execution_count": 4,
      "outputs": [
        {
          "output_type": "stream",
          "name": "stdout",
          "text": [
            "Tiempo promedio método básico: 9560.59 ns\n",
            "Tiempo promedio método optimizado: 3242.49 ns\n"
          ]
        }
      ]
    },
    {
      "cell_type": "markdown",
      "source": [
        "Comparación y análisis"
      ],
      "metadata": {
        "id": "xo-BvgvB5GAt"
      }
    },
    {
      "cell_type": "markdown",
      "source": [
        "El código anterior mide el tiempo promedio de cada algoritmo para calcular el número Fibonacci en la posición n=20, repitiendo cada medición 10 veces.\n",
        "\n"
      ],
      "metadata": {
        "id": "SBMvSrE65OHx"
      }
    },
    {
      "cell_type": "markdown",
      "source": [
        "Análisis de la eficiencia"
      ],
      "metadata": {
        "id": "JPkw87kK5bFX"
      }
    },
    {
      "cell_type": "markdown",
      "source": [
        "Ambos métodos tienen complejidad O(n), pero es posible que el método optimizado realice menos operaciones en cada iteración, resultando en tiempos ligeramente mejores en ciertos casos."
      ],
      "metadata": {
        "id": "atc68lXT5enq"
      }
    }
  ]
}