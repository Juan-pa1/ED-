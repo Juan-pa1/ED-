{
  "nbformat": 4,
  "nbformat_minor": 0,
  "metadata": {
    "colab": {
      "provenance": [],
      "authorship_tag": "ABX9TyNchFR5ZAdRBErITo5mHoA8",
      "include_colab_link": true
    },
    "kernelspec": {
      "name": "python3",
      "display_name": "Python 3"
    },
    "language_info": {
      "name": "python"
    }
  },
  "cells": [
    {
      "cell_type": "markdown",
      "metadata": {
        "id": "view-in-github",
        "colab_type": "text"
      },
      "source": [
        "<a href=\"https://colab.research.google.com/github/Juan-pa1/ED-/blob/main/Clase7.ipynb\" target=\"_parent\"><img src=\"https://colab.research.google.com/assets/colab-badge.svg\" alt=\"Open In Colab\"/></a>"
      ]
    },
    {
      "cell_type": "code",
      "execution_count": 2,
      "metadata": {
        "id": "rjnXO8cGLpp-"
      },
      "outputs": [],
      "source": [
        "class Nodo:\n",
        "    def __init__(self, valor):\n",
        "        self.valor = valor\n",
        "        self.izquierdo = None\n",
        "        self.derecho = None\n",
        "\n",
        "raiz = Nodo('A')\n",
        "raiz.izquierdo = Nodo('B')\n",
        "raiz.derecho = Nodo('C')\n",
        "raiz.izquierdo.izquierdo = Nodo('D')\n",
        "raiz.izquierdo.derecho = Nodo('E')\n",
        "raiz.derecho.derecho = Nodo('F')\n",
        "\n"
      ]
    },
    {
      "cell_type": "markdown",
      "source": [
        "Recorridos en el árbol\n",
        "1. Recorrido Inorden"
      ],
      "metadata": {
        "id": "o1Tni-awMC1y"
      }
    },
    {
      "cell_type": "code",
      "source": [
        "def inorden(nodo):\n",
        "    if nodo is not None:\n",
        "        inorden(nodo.izquierdo)\n",
        "        print(nodo.valor, end=\" \")\n",
        "        inorden(nodo.derecho)\n"
      ],
      "metadata": {
        "id": "Ng-6Te-XMMQf"
      },
      "execution_count": 3,
      "outputs": []
    },
    {
      "cell_type": "markdown",
      "source": [
        "2. Recorrido Preorden"
      ],
      "metadata": {
        "id": "gxDH-0HbMTWe"
      }
    },
    {
      "cell_type": "code",
      "source": [
        "def preorden(nodo):\n",
        "    if nodo is not None:\n",
        "        print(nodo.valor, end=\" \")\n",
        "        preorden(nodo.izquierdo)\n",
        "        preorden(nodo.derecho)\n"
      ],
      "metadata": {
        "id": "3ccYj0KbMd1N"
      },
      "execution_count": 4,
      "outputs": []
    },
    {
      "cell_type": "markdown",
      "source": [
        "Recorrido postorden"
      ],
      "metadata": {
        "id": "CjBwwItpO_mz"
      }
    },
    {
      "cell_type": "code",
      "source": [
        "def postorden(nodo):\n",
        "    if nodo is not None:\n",
        "        postorden(nodo.izquierdo)\n",
        "        postorden(nodo.derecho)\n",
        "        print(nodo.valor, end=\" \")\n"
      ],
      "metadata": {
        "id": "BVoSvFpEPm75"
      },
      "execution_count": 5,
      "outputs": []
    },
    {
      "cell_type": "markdown",
      "source": [
        "Prueba de recorridos"
      ],
      "metadata": {
        "id": "2xwb2c9hPvcT"
      }
    },
    {
      "cell_type": "code",
      "source": [
        "\n",
        "print(\"Recorrido Inorden:\")\n",
        "inorden(raiz)\n",
        "print(\"\\nRecorrido Preorden:\")\n",
        "preorden(raiz)\n",
        "print(\"\\nRecorrido Postorden:\")\n",
        "postorden(raiz)\n"
      ],
      "metadata": {
        "colab": {
          "base_uri": "https://localhost:8080/"
        },
        "id": "TfUHMrGvPya2",
        "outputId": "cf82f773-2bdc-4923-df83-1213adcc10ba"
      },
      "execution_count": 6,
      "outputs": [
        {
          "output_type": "stream",
          "name": "stdout",
          "text": [
            "Recorrido Inorden:\n",
            "D B E A C F \n",
            "Recorrido Preorden:\n",
            "A B D E C F \n",
            "Recorrido Postorden:\n",
            "D E B F C A "
          ]
        }
      ]
    }
  ]
}