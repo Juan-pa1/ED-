{
  "nbformat": 4,
  "nbformat_minor": 0,
  "metadata": {
    "colab": {
      "provenance": [],
      "authorship_tag": "ABX9TyMB/yRSK1pfv3czb3M/GrMX",
      "include_colab_link": true
    },
    "kernelspec": {
      "name": "python3",
      "display_name": "Python 3"
    },
    "language_info": {
      "name": "python"
    }
  },
  "cells": [
    {
      "cell_type": "markdown",
      "metadata": {
        "id": "view-in-github",
        "colab_type": "text"
      },
      "source": [
        "<a href=\"https://colab.research.google.com/github/Juan-pa1/ED-/blob/main/Clase_4.ipynb\" target=\"_parent\"><img src=\"https://colab.research.google.com/assets/colab-badge.svg\" alt=\"Open In Colab\"/></a>"
      ]
    },
    {
      "cell_type": "code",
      "execution_count": 1,
      "metadata": {
        "colab": {
          "base_uri": "https://localhost:8080/"
        },
        "id": "T5b-2w3HIXqR",
        "outputId": "db6f3bac-5f47-4ec4-cc3f-c9d9bf6fef9e"
      },
      "outputs": [
        {
          "output_type": "stream",
          "name": "stdout",
          "text": [
            "Ejercicio 1 - Lista después de insertar 5 elementos: [4, 3, 2, 1, 0]\n",
            "Ejercicio 2 - Lista original: [0, 1, 2, 3, 4]\n",
            "Ejercicio 2 - Lista después de eliminar el valor 2: [0, 1, 3, 4]\n",
            "Ejercicio 3 - Lista: [0, 1, 2, 3, 4]\n",
            "Ejercicio 3 - ¿Se encontró el valor 3? Sí\n",
            "Ejercicio Avanzado - Lista original: [0, 1, 2, 3, 4]\n",
            "Ejercicio Avanzado - Lista después de inserciones: [10, 0, 1, 20, 2, 3, 4, 30]\n"
          ]
        }
      ],
      "source": [
        "class Nodo:\n",
        "    def __init__(self, valor):\n",
        "        self.valor = valor\n",
        "        self.siguiente = None\n",
        "\n",
        "class ListaEnlazada:\n",
        "    def __init__(self):\n",
        "        self.cabeza = None\n",
        "\n",
        "    def insertar_al_inicio(self, valor):\n",
        "        nuevo_nodo = Nodo(valor)\n",
        "        nuevo_nodo.siguiente = self.cabeza\n",
        "        self.cabeza = nuevo_nodo\n",
        "\n",
        "    def insertar_al_final(self, valor):\n",
        "        nuevo_nodo = Nodo(valor)\n",
        "        if not self.cabeza:\n",
        "            self.cabeza = nuevo_nodo\n",
        "            return\n",
        "        actual = self.cabeza\n",
        "        while actual.siguiente:\n",
        "            actual = actual.siguiente\n",
        "        actual.siguiente = nuevo_nodo\n",
        "\n",
        "    def insertar_en_posicion(self, valor, posicion):\n",
        "        if posicion == 0:\n",
        "            self.insertar_al_inicio(valor)\n",
        "            return\n",
        "        nuevo_nodo = Nodo(valor)\n",
        "        actual = self.cabeza\n",
        "        for _ in range(posicion - 1):\n",
        "            if actual is None:\n",
        "                raise IndexError(\"Posición fuera de rango\")\n",
        "            actual = actual.siguiente\n",
        "        if actual is None:\n",
        "            raise IndexError(\"Posición fuera de rango\")\n",
        "        nuevo_nodo.siguiente = actual.siguiente\n",
        "        actual.siguiente = nuevo_nodo\n",
        "\n",
        "    def eliminar_por_valor(self, valor):\n",
        "        if not self.cabeza:\n",
        "            return\n",
        "        if self.cabeza.valor == valor:\n",
        "            self.cabeza = self.cabeza.siguiente\n",
        "            return\n",
        "        actual = self.cabeza\n",
        "        while actual.siguiente:\n",
        "            if actual.siguiente.valor == valor:\n",
        "                actual.siguiente = actual.siguiente.siguiente\n",
        "                return\n",
        "            actual = actual.siguiente\n",
        "\n",
        "    def buscar(self, valor):\n",
        "        actual = self.cabeza\n",
        "        while actual:\n",
        "            if actual.valor == valor:\n",
        "                return True\n",
        "            actual = actual.siguiente\n",
        "        return False\n",
        "\n",
        "    def recorrer(self):\n",
        "        elementos = []\n",
        "        actual = self.cabeza\n",
        "        while actual:\n",
        "            elementos.append(actual.valor)\n",
        "            actual = actual.siguiente\n",
        "        return elementos\n",
        "\n",
        "# Ejercicio Práctico 1\n",
        "def ejercicio_1():\n",
        "    lista = ListaEnlazada()\n",
        "    for i in range(5):\n",
        "        lista.insertar_al_inicio(i)\n",
        "    print(\"Ejercicio 1 - Lista después de insertar 5 elementos:\", lista.recorrer())\n",
        "\n",
        "# Ejercicio Práctico 2\n",
        "def ejercicio_2():\n",
        "    lista = ListaEnlazada()\n",
        "    for i in range(5):\n",
        "        lista.insertar_al_final(i)\n",
        "    print(\"Ejercicio 2 - Lista original:\", lista.recorrer())\n",
        "    lista.eliminar_por_valor(2)\n",
        "    print(\"Ejercicio 2 - Lista después de eliminar el valor 2:\", lista.recorrer())\n",
        "\n",
        "# Ejercicio Práctico 3\n",
        "def ejercicio_3():\n",
        "    lista = ListaEnlazada()\n",
        "    for i in range(5):\n",
        "        lista.insertar_al_final(i)\n",
        "    print(\"Ejercicio 3 - Lista:\", lista.recorrer())\n",
        "    valor_buscar = 3\n",
        "    encontrado = lista.buscar(valor_buscar)\n",
        "    print(f\"Ejercicio 3 - ¿Se encontró el valor {valor_buscar}? {'Sí' if encontrado else 'No'}\")\n",
        "\n",
        "# Ejercicio Avanzado\n",
        "def ejercicio_avanzado():\n",
        "    lista = ListaEnlazada()\n",
        "    for i in range(5):\n",
        "        lista.insertar_al_final(i)\n",
        "    print(\"Ejercicio Avanzado - Lista original:\", lista.recorrer())\n",
        "    lista.insertar_en_posicion(10, 0)  # Insertar al inicio\n",
        "    lista.insertar_en_posicion(20, 3)  # Insertar en medio\n",
        "    lista.insertar_en_posicion(30, 7)  # Insertar al final\n",
        "    print(\"Ejercicio Avanzado - Lista después de inserciones:\", lista.recorrer())\n",
        "\n",
        "if __name__ == \"__main__\":\n",
        "    ejercicio_1()\n",
        "    ejercicio_2()\n",
        "    ejercicio_3()\n",
        "    ejercicio_avanzado()"
      ]
    }
  ]
}