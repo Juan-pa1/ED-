{
  "nbformat": 4,
  "nbformat_minor": 0,
  "metadata": {
    "colab": {
      "provenance": [],
      "authorship_tag": "ABX9TyNBgSZtQ6BXXsGpoiLv79E4",
      "include_colab_link": true
    },
    "kernelspec": {
      "name": "python3",
      "display_name": "Python 3"
    },
    "language_info": {
      "name": "python"
    }
  },
  "cells": [
    {
      "cell_type": "markdown",
      "metadata": {
        "id": "view-in-github",
        "colab_type": "text"
      },
      "source": [
        "<a href=\"https://colab.research.google.com/github/Juan-pa1/ED-/blob/main/Taller_1.ipynb\" target=\"_parent\"><img src=\"https://colab.research.google.com/assets/colab-badge.svg\" alt=\"Open In Colab\"/></a>"
      ]
    },
    {
      "cell_type": "code",
      "execution_count": 1,
      "metadata": {
        "id": "_llOd921Mb8O"
      },
      "outputs": [],
      "source": [
        "nombres = []\n",
        "nombres.append(\"Sofia\")\n",
        "nombres.append(\"Daniel\")\n",
        "nombres.append(\"Juan Pablo\")\n",
        "nombres.append(\"Catalina\")\n",
        "nombres.append(\"Valentina\")"
      ]
    },
    {
      "cell_type": "code",
      "source": [
        "def imprimir_lista(lista):\n",
        "  for nombre in lista:\n",
        "    print(nombre)\n",
        "\n",
        "imprimir_lista(nombres)"
      ],
      "metadata": {
        "colab": {
          "base_uri": "https://localhost:8080/"
        },
        "id": "-edrcM5XNAke",
        "outputId": "b83f0926-0af9-4c20-e774-8d3780b82d1a"
      },
      "execution_count": 2,
      "outputs": [
        {
          "output_type": "stream",
          "name": "stdout",
          "text": [
            "Sofia\n",
            "Daniel\n",
            "Juan Pablo\n",
            "Catalina\n",
            "Valentina\n"
          ]
        }
      ]
    },
    {
      "cell_type": "code",
      "source": [
        "buscar_nombre = \"Juan Pablo\"\n",
        "\n",
        "if buscar_nombre in nombres:\n",
        "  print(f\"El nombre {buscar_nombre} se encontro en la lista\" )\n",
        "\n",
        "else:\n",
        "  Print(f\"El nombre {buscar_nombre} no fue encontrado\")\n"
      ],
      "metadata": {
        "colab": {
          "base_uri": "https://localhost:8080/"
        },
        "id": "ZNKnvfedNRUJ",
        "outputId": "5d7d0c00-8ce4-4cb9-da74-4f100ef01cf2"
      },
      "execution_count": 3,
      "outputs": [
        {
          "output_type": "stream",
          "name": "stdout",
          "text": [
            "El nombre Juan Pablo se encontro en la lista\n"
          ]
        }
      ]
    },
    {
      "cell_type": "code",
      "source": [
        "nuevo_nombre = \"Felipe\"\n",
        "\n",
        "if nuevo_nombre not in nombres:\n",
        "    nombres.append(nuevo_nombre)\n",
        "    print(f\"El nombre {nuevo_nombre} ha sido agregado a la lista.\")\n",
        "else:\n",
        "    print(f\"El nombre {nuevo_nombre} ya está en la lista.\")\n",
        "\n",
        "\n",
        "imprimir_lista(nombres)"
      ],
      "metadata": {
        "colab": {
          "base_uri": "https://localhost:8080/"
        },
        "id": "9PO7RnM5OAq4",
        "outputId": "2b1f128c-2901-43ca-dbc2-b9e2801b723f"
      },
      "execution_count": 5,
      "outputs": [
        {
          "output_type": "stream",
          "name": "stdout",
          "text": [
            "El nombre Felipe ha sido agregado a la lista.\n",
            "Sofia\n",
            "Daniel\n",
            "Juan Pablo\n",
            "Catalina\n",
            "Valentina\n",
            "Melani\n",
            "Felipe\n"
          ]
        }
      ]
    },
    {
      "cell_type": "code",
      "source": [
        "nombre_a_eliminar = \"Daniel\"\n",
        "\n",
        "if nombre_a_eliminar in nombres:\n",
        "    nombres.remove(nombre_a_eliminar)\n",
        "    print(f\"El nombre {nombre_a_eliminar} ha sido eliminado de la lista.\")\n",
        "else:\n",
        "    print(f\"El nombre {nombre_a_eliminar} no está en la lista.\")\n",
        "\n",
        "imprimir_lista(nombres)"
      ],
      "metadata": {
        "colab": {
          "base_uri": "https://localhost:8080/"
        },
        "id": "cwmUwluOO3qx",
        "outputId": "b7ec8667-1708-45a9-a2db-69ca50311571"
      },
      "execution_count": 6,
      "outputs": [
        {
          "output_type": "stream",
          "name": "stdout",
          "text": [
            "El nombre Daniel ha sido eliminado de la lista.\n",
            "Sofia\n",
            "Juan Pablo\n",
            "Catalina\n",
            "Valentina\n",
            "Melani\n",
            "Felipe\n"
          ]
        }
      ]
    },
    {
      "cell_type": "code",
      "source": [
        "tareas = []\n",
        "\n",
        "def agregar_tarea(tarea):\n",
        "    tareas.append(tarea)\n",
        "    print(f\"Tarea '{tarea}' añadida a la lista.\")\n",
        "\n",
        "def eliminar_tarea(tarea):\n",
        "    if tarea in tareas:\n",
        "        tareas.remove(tarea)\n",
        "        print(f\"Tarea '{tarea}' eliminada de la lista.\")\n",
        "    else:\n",
        "        print(f\"Tarea '{tarea}' no está en la lista.\")\n",
        "\n",
        "def mostrar_tareas():\n",
        "    if tareas:\n",
        "        print(\"Tareas pendientes:\")\n",
        "        for tarea in tareas:\n",
        "            print(f\"- {tarea}\")\n",
        "    else:\n",
        "        print(\"No hay tareas pendientes.\")\n",
        "\n",
        "\n",
        "agregar_tarea(\"Comprar leche\")\n",
        "agregar_tarea(\"Pagar los servicios públicos\")\n",
        "mostrar_tareas()\n",
        "eliminar_tarea(\"Comprar leche\")\n",
        "mostrar_tareas()"
      ],
      "metadata": {
        "colab": {
          "base_uri": "https://localhost:8080/"
        },
        "id": "R85IAayiPxNo",
        "outputId": "42cb5e4a-5cdb-4217-9a5a-56fbbea8fb56"
      },
      "execution_count": 14,
      "outputs": [
        {
          "output_type": "stream",
          "name": "stdout",
          "text": [
            "Tarea 'Comprar leche' añadida a la lista.\n",
            "Tarea 'Pagar los servicios públicos' añadida a la lista.\n",
            "Tareas pendientes:\n",
            "- Comprar leche\n",
            "- Pagar los servicios públicos\n",
            "Tarea 'Comprar leche' eliminada de la lista.\n",
            "Tareas pendientes:\n",
            "- Pagar los servicios públicos\n"
          ]
        }
      ]
    }
  ]
}